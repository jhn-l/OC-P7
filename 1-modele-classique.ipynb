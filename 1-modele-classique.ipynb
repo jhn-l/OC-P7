{
 "cells": [
  {
   "cell_type": "code",
   "execution_count": 1,
   "metadata": {},
   "outputs": [],
   "source": [
    "import pandas as pd\n",
    "import numpy as np\n",
    "import matplotlib.pyplot as plt\n",
    "import seaborn as sns\n",
    "from sklearn.feature_extraction.text import CountVectorizer, TfidfVectorizer\n",
    "from sklearn.model_selection import train_test_split, cross_val_score\n",
    "from sklearn.linear_model import LogisticRegression\n",
    "from sklearn.metrics import accuracy_score, confusion_matrix, classification_report, roc_auc_score, roc_curve, auc\n",
    "\n",
    "from nltk.corpus import stopwords\n",
    "from nltk.stem import PorterStemmer, WordNetLemmatizer\n",
    "import nltk\n",
    "import mlflow\n",
    "import re\n",
    "import time\n",
    "import pickle\n",
    "\n",
    "mlflow.set_tracking_uri(\"http://mlflow-server:5000\")\n"
   ]
  },
  {
   "cell_type": "markdown",
   "metadata": {},
   "source": [
    "## 1. Chargement des données"
   ]
  },
  {
   "cell_type": "code",
   "execution_count": 2,
   "metadata": {},
   "outputs": [
    {
     "name": "stdout",
     "output_type": "stream",
     "text": [
      "<class 'pandas.core.frame.DataFrame'>\n",
      "RangeIndex: 1599999 entries, 0 to 1599998\n",
      "Data columns (total 6 columns):\n",
      " #   Column                                                                                                               Non-Null Count    Dtype \n",
      "---  ------                                                                                                               --------------    ----- \n",
      " 0   0                                                                                                                    1599999 non-null  int64 \n",
      " 1   1467810369                                                                                                           1599999 non-null  int64 \n",
      " 2   Mon Apr 06 22:19:45 PDT 2009                                                                                         1599999 non-null  object\n",
      " 3   NO_QUERY                                                                                                             1599999 non-null  object\n",
      " 4   _TheSpecialOne_                                                                                                      1599999 non-null  object\n",
      " 5   @switchfoot http://twitpic.com/2y1zl - Awww, that's a bummer.  You shoulda got David Carr of Third Day to do it. ;D  1599999 non-null  object\n",
      "dtypes: int64(2), object(4)\n",
      "memory usage: 73.2+ MB\n"
     ]
    }
   ],
   "source": [
    "path = '/code/data/archive/'\n",
    "df = pd.read_csv(path + 'training.1600000.processed.noemoticon.csv', sep=',',  encoding='latin-1')\n",
    "\n",
    "df.info()"
   ]
  },
  {
   "cell_type": "code",
   "execution_count": 3,
   "metadata": {},
   "outputs": [],
   "source": [
    "# Mettre un header au dataframe\n",
    "df.columns = ['target', 'ids', 'date', 'flag', 'user', 'text']"
   ]
  },
  {
   "cell_type": "code",
   "execution_count": 4,
   "metadata": {},
   "outputs": [
    {
     "data": {
      "text/plain": [
       "(1599999, 6)"
      ]
     },
     "metadata": {},
     "output_type": "display_data"
    },
    {
     "name": "stdout",
     "output_type": "stream",
     "text": [
      "Nombre de lignes après suppression complète des doublons :\n",
      " (1573031, 6)\n"
     ]
    }
   ],
   "source": [
    "# Supprimer toutes les lignes ayant des doublons dans la colonne 'text', y compris la première occurrence\n",
    "display(df.shape)\n",
    "df = df[~df['text'].duplicated(keep=False)].reset_index(drop=True)\n",
    "\n",
    "# Vérifier le nombre de lignes après suppression\n",
    "print(f\"Nombre de lignes après suppression complète des doublons :\\n {df.shape}\")\n"
   ]
  },
  {
   "cell_type": "code",
   "execution_count": 5,
   "metadata": {},
   "outputs": [
    {
     "name": "stdout",
     "output_type": "stream",
     "text": [
      "Toutes les lignes de la colonne 'target' contiennent une valeur.\n"
     ]
    }
   ],
   "source": [
    "# Vérifier s'il y a des valeurs manquantes dans la colonne 'target'\n",
    "missing_target_count = df['target'].isnull().sum()\n",
    "\n",
    "if missing_target_count == 0:\n",
    "    print(\"Toutes les lignes de la colonne 'target' contiennent une valeur.\")\n",
    "else:\n",
    "    print(f\"Il y a {missing_target_count} lignes sans valeur dans la colonne 'target'.\")\n"
   ]
  },
  {
   "cell_type": "code",
   "execution_count": 6,
   "metadata": {},
   "outputs": [
    {
     "data": {
      "text/plain": [
       "target          2\n",
       "ids       1573031\n",
       "date       767497\n",
       "flag            1\n",
       "user       651391\n",
       "text      1573031\n",
       "dtype: int64"
      ]
     },
     "execution_count": 6,
     "metadata": {},
     "output_type": "execute_result"
    }
   ],
   "source": [
    "# Voir les valeurs uniques du dataframe\n",
    "df.nunique()"
   ]
  },
  {
   "cell_type": "code",
   "execution_count": 7,
   "metadata": {},
   "outputs": [
    {
     "data": {
      "text/plain": [
       "target    0\n",
       "ids       0\n",
       "date      0\n",
       "flag      0\n",
       "user      0\n",
       "text      0\n",
       "dtype: int64"
      ]
     },
     "execution_count": 7,
     "metadata": {},
     "output_type": "execute_result"
    }
   ],
   "source": [
    "# Voir si il y a des valeurs manquantes\n",
    "df.isnull().sum()"
   ]
  },
  {
   "cell_type": "markdown",
   "metadata": {},
   "source": [
    "### Distribion des valeurs de la colonne 'target' ."
   ]
  },
  {
   "cell_type": "code",
   "execution_count": 8,
   "metadata": {},
   "outputs": [
    {
     "data": {
      "image/png": "[encoded data removed]",
      "text/plain": [
       "<Figure size 800x600 with 1 Axes>"
      ]
     },
     "metadata": {},
     "output_type": "display_data"
    }
   ],
   "source": [
    "# Créer un histogramme des valeurs de la colonne 'target' avec des étiquettes spécifiques et le nombre total de valeurs\n",
    "\n",
    "# Compter les occurrences de chaque valeur unique dans 'target' avec les valeurs 0, 2, et 4\n",
    "target_counts = df['target'].value_counts().reindex([0, 2, 4], fill_value=0)\n",
    "\n",
    "# Configurer le graphique\n",
    "plt.figure(figsize=(8, 6))\n",
    "bars = plt.bar(['Negative (0)', 'Neutral (2)', 'Positive (4)'], target_counts, color='skyblue', edgecolor='black')\n",
    "\n",
    "# Ajouter les annotations (le nombre total au-dessus de chaque colonne)\n",
    "for bar, count in zip(bars, target_counts):\n",
    "    plt.text(bar.get_x() + bar.get_width() / 2, bar.get_height(), f'{count}', ha='center', va='bottom', fontsize=12)\n",
    "\n",
    "# Personnaliser l'apparence du graphique\n",
    "plt.title(\"Distribution des valeurs de la colonne 'target'\")\n",
    "plt.xlabel(\"Polarity of Tweet\")\n",
    "plt.ylabel(\"Frequency\")\n",
    "plt.show()"
   ]
  },
  {
   "cell_type": "markdown",
   "metadata": {},
   "source": [
    "### Analyse du graphique\n",
    "\n",
    "Le graphique ci-dessus montre la distribution des valeurs de la colonne `target` dans votre dataset de tweets, qui est utilisé pour l'analyse de sentiments. Voici une analyse détaillée :\n",
    "\n",
    "1. **Distribution des sentiments** : Le graphique indique qu'il y a deux catégories majoritaires :\n",
    "   - **Negative (0)** : 799,999 tweets\n",
    "   - **Positive (4)** : 800,000 tweets\n",
    "   - **Neutral (2)** : Aucun tweet n'est présent dans cette catégorie.\n",
    "\n",
    "   Cela signifie que le dataset est composé exclusivement de sentiments polarisés, soit négatifs, soit positifs, sans tweets neutres. Cela pourrait poser un défi pour les modèles d'apprentissage, car ils ne verront aucune donnée pour la catégorie \"neutre\".\n",
    "\n",
    "2. **Équilibre des classes** : Les deux classes `Negative` et `Positive` sont presque parfaitement équilibrées, avec seulement un tweet de différence. Cet équilibre est avantageux pour l'apprentissage supervisé car il minimise les risques de biais en faveur d'une classe spécifique.\n",
    "\n",
    "3. **Données manquantes** : L'absence de tweets neutres (valeur `2`) peut poser problème si l'on souhaite modéliser ou prédire cette classe. Si une détection de sentiment neutre est requise, il serait idéal de compléter le dataset avec des tweets de cette catégorie.\n",
    "\n",
    "### Conclusion\n",
    "\n",
    "Le graphique de distribution des valeurs de la colonne `target` montre une absence de tweets neutres (valeur `2`). Étant donné que seules les catégories **Negative (0)** et **Positive (4)** sont présentes en quantités équilibrées, il est judicieux de simplifier le problème en une **classification binaire** entre sentiments négatifs et positifs.\n",
    "\n",
    "Cette approche de classification binaire sera plus efficace, car il n'y a pas de données pour entraîner un modèle à détecter les tweets neutres.\n"
   ]
  },
  {
   "cell_type": "markdown",
   "metadata": {},
   "source": [
    "## MLFlow\n",
    "\n",
    "- Fonction pour intégrer MLFLOW pour chaque modèle de machine learning testé."
   ]
  },
  {
   "cell_type": "code",
   "execution_count": 9,
   "metadata": {},
   "outputs": [
    {
     "data": {
      "text/html": [
       "<div>\n",
       "<style scoped>\n",
       "    .dataframe tbody tr th:only-of-type {\n",
       "        vertical-align: middle;\n",
       "    }\n",
       "\n",
       "    .dataframe tbody tr th {\n",
       "        vertical-align: top;\n",
       "    }\n",
       "\n",
       "    .dataframe thead th {\n",
       "        text-align: right;\n",
       "    }\n",
       "</style>\n",
       "<table border=\"1\" class=\"dataframe\">\n",
       "  <thead>\n",
       "    <tr style=\"text-align: right;\">\n",
       "      <th></th>\n",
       "      <th>target</th>\n",
       "      <th>text</th>\n",
       "    </tr>\n",
       "  </thead>\n",
       "  <tbody>\n",
       "    <tr>\n",
       "      <th>1221269</th>\n",
       "      <td>4</td>\n",
       "      <td>at home... watching 24...</td>\n",
       "    </tr>\n",
       "    <tr>\n",
       "      <th>1513750</th>\n",
       "      <td>4</td>\n",
       "      <td>Just placed my order!!! Oh wow.... never place...</td>\n",
       "    </tr>\n",
       "    <tr>\n",
       "      <th>180336</th>\n",
       "      <td>0</td>\n",
       "      <td>@wills_ Nite dude. Sorry I missed you online  ...</td>\n",
       "    </tr>\n",
       "    <tr>\n",
       "      <th>1184589</th>\n",
       "      <td>4</td>\n",
       "      <td>Watching &amp;quot;The Predator&amp;quot;</td>\n",
       "    </tr>\n",
       "    <tr>\n",
       "      <th>1412663</th>\n",
       "      <td>4</td>\n",
       "      <td>I do love 3D. Come a long way since creature f...</td>\n",
       "    </tr>\n",
       "  </tbody>\n",
       "</table>\n",
       "</div>"
      ],
      "text/plain": [
       "         target                                               text\n",
       "1221269       4                         at home... watching 24... \n",
       "1513750       4  Just placed my order!!! Oh wow.... never place...\n",
       "180336        0  @wills_ Nite dude. Sorry I missed you online  ...\n",
       "1184589       4                Watching &quot;The Predator&quot;  \n",
       "1412663       4  I do love 3D. Come a long way since creature f..."
      ]
     },
     "execution_count": 9,
     "metadata": {},
     "output_type": "execute_result"
    }
   ],
   "source": [
    "# Filtrer pour un sous-ensemble\n",
    "df_sample = df.sample(frac=0.5, random_state=42)\n",
    "df_data = df_sample[['target', 'text']]\n",
    "df_data.sample(5)"
   ]
  },
  {
   "cell_type": "code",
   "execution_count": 10,
   "metadata": {},
   "outputs": [
    {
     "data": {
      "text/plain": [
       "target\n",
       "4    394093\n",
       "0    392423\n",
       "Name: count, dtype: int64"
      ]
     },
     "execution_count": 10,
     "metadata": {},
     "output_type": "execute_result"
    }
   ],
   "source": [
    "df_sample['target'].value_counts()"
   ]
  },
  {
   "cell_type": "code",
   "execution_count": 11,
   "metadata": {},
   "outputs": [],
   "source": [
    "# Définir les features et labels\n",
    "df_sample['target'] = df_sample['target'].apply(lambda x: 1 if x == 4 else 0) "
   ]
  },
  {
   "cell_type": "code",
   "execution_count": 13,
   "metadata": {},
   "outputs": [],
   "source": [
    "df_sample['target'].value_counts()\n",
    "df_sample.to_pickle('df_sample.pkl')"
   ]
  },
  {
   "cell_type": "code",
   "execution_count": 14,
   "metadata": {},
   "outputs": [
    {
     "name": "stdout",
     "output_type": "stream",
     "text": [
      "<class 'pandas.core.frame.DataFrame'>\n",
      "Index: 786516 entries, 367103 to 1380859\n",
      "Data columns (total 2 columns):\n",
      " #   Column  Non-Null Count   Dtype \n",
      "---  ------  --------------   ----- \n",
      " 0   target  786516 non-null  int64 \n",
      " 1   text    786516 non-null  object\n",
      "dtypes: int64(1), object(1)\n",
      "memory usage: 18.0+ MB\n"
     ]
    }
   ],
   "source": [
    "df_data.info()"
   ]
  },
  {
   "cell_type": "code",
   "execution_count": 15,
   "metadata": {},
   "outputs": [
    {
     "name": "stderr",
     "output_type": "stream",
     "text": [
      "[nltk_data] Downloading package stopwords to /root/nltk_data...\n",
      "[nltk_data]   Package stopwords is already up-to-date!\n",
      "[nltk_data] Downloading package wordnet to /root/nltk_data...\n",
      "[nltk_data]   Package wordnet is already up-to-date!\n"
     ]
    },
    {
     "data": {
      "text/plain": [
       "True"
      ]
     },
     "execution_count": 15,
     "metadata": {},
     "output_type": "execute_result"
    }
   ],
   "source": [
    "# Initialisation de NLTK\n",
    "nltk.download('stopwords')\n",
    "nltk.download('wordnet')\n"
   ]
  },
  {
   "cell_type": "code",
   "execution_count": 16,
   "metadata": {},
   "outputs": [],
   "source": [
    "# Définir les stopwords anglais\n",
    "english_stopwords = list(set(stopwords.words('english')))"
   ]
  },
  {
   "cell_type": "code",
   "execution_count": 17,
   "metadata": {},
   "outputs": [],
   "source": [
    "# Classe de prétraitement et vectorisation des tweets\n",
    "class TweetVectorizer:\n",
    "    def __init__(self, vectorizer_type='tfidf', method='lemmatize'):\n",
    "        self.vectorizer_type = vectorizer_type\n",
    "        self.method = method\n",
    "        self.stemmer = PorterStemmer()\n",
    "        self.lemmatizer = WordNetLemmatizer()\n",
    "        \n",
    "        # Initialiser le vectorizer\n",
    "        if vectorizer_type == 'count':\n",
    "            self.vectorizer = CountVectorizer(stop_words=english_stopwords)\n",
    "        elif vectorizer_type == 'tfidf':\n",
    "            self.vectorizer = TfidfVectorizer(stop_words=english_stopwords)\n",
    "        else:\n",
    "            raise ValueError(\"vectorizer_type doit être 'count' ou 'tfidf'\")\n",
    "    \n",
    "    def clean_tweet(self, tweet):\n",
    "        # Convertir le tweet en minuscules\n",
    "        tweet = tweet.lower()\n",
    "        # Supprimer les URL commencant par 'http' ou 'https' ou 'www'\n",
    "        tweet = re.sub(r'www\\S+', '', tweet)\n",
    "        tweet = re.sub(r'http\\S+', '', tweet)\n",
    "        # Supprimer les mentions\n",
    "        tweet = re.sub(r'@\\w+', '', tweet)\n",
    "        # Supprimer les hashtags\n",
    "        tweet = re.sub(r'#\\w+', '', tweet)\n",
    "        # Supprimer les caractères spéciaux et les chiffres\n",
    "        tweet = re.sub(r'[^A-Za-z ]+', ' ', tweet)\n",
    "        # Supprimer les espaces supplémentaires\n",
    "        tweet = re.sub(r'\\s+', ' ', tweet)\n",
    "        return tweet\n",
    "        \n",
    "    def preprocess(self, tweet):\n",
    "        cleaned_tweet = self.clean_tweet(tweet)\n",
    "        tokens = cleaned_tweet.split()\n",
    "        \n",
    "        # Appliquer le stemming ou la lemmatisation\n",
    "        if self.method == 'stem':\n",
    "            tokens = [self.stemmer.stem(token) for token in tokens]\n",
    "        elif self.method == 'lemmatize':\n",
    "            tokens = [self.lemmatizer.lemmatize(token) for token in tokens]\n",
    "        \n",
    "        return ' '.join(tokens)\n",
    "    \n",
    "    def fit_transform(self, documents):\n",
    "        # Prétraitement des documents\n",
    "        documents_preprocessed = [self.preprocess(doc) for doc in documents]\n",
    "        \n",
    "        # Suivi de la vectorisation dans MLflow\n",
    "        with mlflow.start_run(run_name=\"Vectorization\", nested=True):\n",
    "            mlflow.set_tag(\"Stage\", \"Vectorization\")\n",
    "            mlflow.set_tag(\"vectorizer_type\", self.vectorizer_type)\n",
    "            mlflow.set_tag(\"preprocessing_method\", self.method)\n",
    "            \n",
    "            # Enregistrer le temps de traitement de la vectorisation\n",
    "            start_time = time.time()\n",
    "            self.vectorizer.fit(documents_preprocessed)  # Correction: Entraînement du vectorizer avant la transformation\n",
    "            X = self.vectorizer.transform(documents_preprocessed)  # Transformation des données\n",
    "            \n",
    "            end_time = time.time()\n",
    "            processing_time = end_time - start_time\n",
    "            mlflow.log_metric(\"vectorization_time_seconds\", processing_time)\n",
    "            \n",
    "            # Enregistrer la densité de la matrice de caractéristiques\n",
    "            density = X.nnz / float(X.shape[0] * X.shape[1])\n",
    "            mlflow.log_metric(\"matrix_density\", density)\n",
    "            \n",
    "            # Enregistrer le nombre de caractéristiques\n",
    "            num_features = X.shape[1]\n",
    "            mlflow.log_metric(\"num_features\", num_features)\n",
    "        \n",
    "        return X\n",
    "    \n",
    "    def transform(self, documents):\n",
    "        # Transformation des nouveaux documents en utilisant le vectorizer entraîné\n",
    "        documents_preprocessed = [self.preprocess(doc) for doc in documents]\n",
    "        X = self.vectorizer.transform(documents_preprocessed)\n",
    "        \n",
    "        return X"
   ]
  },
  {
   "cell_type": "code",
   "execution_count": 18,
   "metadata": {},
   "outputs": [],
   "source": [
    "# Classe pour la classification avec régression logistique\n",
    "class TweetClassifier:\n",
    "    def __init__(self):\n",
    "        self.model = LogisticRegression(C=1.0, solver='lbfgs', penalty='l2')\n",
    "\n",
    "    def train_and_evaluate(self, X_train, X_val, y_train, y_val):\n",
    "        # Suivi de l'entraînement du modèle dans MLflow comme sous-exécution\n",
    "        with mlflow.start_run(run_name=\"Classification\", nested=True):\n",
    "            mlflow.set_tag(\"Stage\", \"Classification\")\n",
    "            mlflow.set_tag(\"model\", \"Logistic Regression\")\n",
    "            \n",
    "            # Enregistrer les hyperparamètres du modèle\n",
    "            mlflow.log_param(\"C\", self.model.get_params()['C'])\n",
    "            mlflow.log_param(\"solver\", self.model.get_params()['solver'])\n",
    "            mlflow.log_param(\"penalty\", self.model.get_params()['penalty'])\n",
    "            \n",
    "            # Entraîner le modèle avec Cross-Validation sur le set d'entraînement\n",
    "            cross_val_scores = cross_val_score(self.model, X_train, y_train, cv=5, scoring='accuracy')\n",
    "            mlflow.log_metric(\"cross_val_accuracy_mean\", cross_val_scores.mean())\n",
    "            mlflow.log_metric(\"cross_val_accuracy_std\", cross_val_scores.std())\n",
    "\n",
    "            # Entraîner sur l'ensemble d'entraînement complet\n",
    "            start_time = time.time()\n",
    "            self.model.fit(X_train, y_train)\n",
    "            end_time = time.time()\n",
    "            training_time = end_time - start_time\n",
    "            mlflow.log_metric(\"training_time_seconds\", training_time)\n",
    "            \n",
    "            # Évaluation sur l'ensemble de validation\n",
    "            y_val_pred = self.model.predict(X_val)\n",
    "            val_accuracy = accuracy_score(y_val, y_val_pred)\n",
    "            mlflow.log_metric(\"validation_accuracy\", val_accuracy)\n",
    "            mlflow.log_text(classification_report(y_val, y_val_pred), \"validation_classification_report.txt\")\n",
    "            \n",
    "            # Calcul de la courbe ROC-AUC sur l'ensemble de validation\n",
    "            y_val_prob = self.model.predict_proba(X_val)[:, 1]\n",
    "            fpr, tpr, _ = roc_curve(y_val, y_val_prob)\n",
    "            roc_auc_val = auc(fpr, tpr)\n",
    "            mlflow.log_metric(\"validation_roc_auc\", roc_auc_val)\n",
    "            metrics_dict = {\n",
    "                \"cross_val_accuracy_mean\": cross_val_scores.mean(),\n",
    "                \"cross_val_accuracy_std\": cross_val_scores.std(),\n",
    "                \"validation_accuracy\": val_accuracy,\n",
    "                \"validation_roc_auc\": roc_auc_val,\n",
    "                \"training_time_seconds\": training_time\n",
    "            }\n",
    "            mlflow.log_table(metrics_dict, \"validation_metrics_table.json\")\n",
    "            mlflow.set_tag(\"best_metric\", \"validation_roc_auc\")\n",
    "            mlflow.set_tag(\"validation_accuracy\", val_accuracy)\n",
    "\n",
    "            # Tracer et enregistrer la courbe ROC\n",
    "            plt.figure()\n",
    "            plt.plot(fpr, tpr, label=f\"ROC curve (area = {roc_auc_val:.2f})\")\n",
    "            plt.plot([0, 1], [0, 1], 'k--')\n",
    "            plt.xlabel(\"False Positive Rate\")\n",
    "            plt.ylabel(\"True Positive Rate\")\n",
    "            plt.title(\"ROC Curve - Validation Set\")\n",
    "            plt.legend(loc=\"lower right\")\n",
    "            plt.savefig(\"roc_curve_val.png\")\n",
    "            mlflow.log_artifact(\"roc_curve_val.png\")\n",
    "            plt.close()\n",
    "            \n",
    "            print(f\"Validation Accuracy : {val_accuracy}\")\n",
    "            print(classification_report(y_val, y_val_pred))\n",
    "    \n",
    "    def final_evaluation(self, X_test, y_test):\n",
    "        # Évaluation finale sur le set de test\n",
    "        with mlflow.start_run(run_name=\"Final Test Evaluation\", nested=True):\n",
    "            mlflow.set_tag(\"Stage\", \"Final Test Evaluation\")\n",
    "            y_test_pred = self.model.predict(X_test)\n",
    "            test_accuracy = accuracy_score(y_test, y_test_pred)\n",
    "            mlflow.log_metric(\"test_accuracy\", test_accuracy)\n",
    "            mlflow.log_text(classification_report(y_test, y_test_pred), \"test_classification_report.txt\")\n",
    "            \n",
    "            # Calcul de la courbe ROC-AUC sur l'ensemble de test\n",
    "            y_test_prob = self.model.predict_proba(X_test)[:, 1]\n",
    "            fpr, tpr, _ = roc_curve(y_test, y_test_prob)\n",
    "            roc_auc_test = auc(fpr, tpr)\n",
    "            mlflow.log_metric(\"test_roc_auc\", roc_auc_test)\n",
    "            metrics_dict = {\n",
    "                \"test_accuracy\": test_accuracy,\n",
    "                \"test_roc_auc\": roc_auc_test\n",
    "            }\n",
    "            mlflow.log_table(metrics_dict, \"test_metrics_table.json\")\n",
    "            mlflow.set_tag(\"test_accuracy\", test_accuracy)\n",
    "            mlflow.set_tag(\"final_evaluation_metric\", \"test_roc_auc\")\n",
    "\n",
    "            # Tracer et enregistrer la courbe ROC pour le set de test\n",
    "            plt.figure()\n",
    "            plt.plot(fpr, tpr, label=f\"ROC curve (area = {roc_auc_test:.2f})\")\n",
    "            plt.plot([0, 1], [0, 1], 'k--')\n",
    "            plt.xlabel(\"False Positive Rate\")\n",
    "            plt.ylabel(\"True Positive Rate\")\n",
    "            plt.title(\"ROC Curve - Test Set\")\n",
    "            plt.legend(loc=\"lower right\")\n",
    "            plt.savefig(\"roc_curve_test.png\")\n",
    "            mlflow.log_artifact(\"roc_curve_test.png\")\n",
    "            plt.close()\n",
    "            \n",
    "            # Enregistrer le modèle final\n",
    "            mlflow.sklearn.log_model(self.model, \"logistic_regression_model\")\n",
    "            \n",
    "            print(f\"Test Accuracy : {test_accuracy}\")\n",
    "            print(classification_report(y_test, y_test_pred))\n"
   ]
  },
  {
   "cell_type": "code",
   "execution_count": 19,
   "metadata": {},
   "outputs": [],
   "source": [
    "# Définition des combinaisons à tester\n",
    "configurations = [\n",
    "    {'vectorizer_type': 'count', 'method': 'lemmatize'},\n",
    "    {'vectorizer_type': 'count', 'method': 'stem'},\n",
    "    {'vectorizer_type': 'tfidf', 'method': 'lemmatize'},\n",
    "    {'vectorizer_type': 'tfidf', 'method': 'stem'}\n",
    "]"
   ]
  },
  {
   "cell_type": "code",
   "execution_count": 20,
   "metadata": {},
   "outputs": [
    {
     "name": "stdout",
     "output_type": "stream",
     "text": [
      "Testing configuration: {'vectorizer_type': 'count', 'method': 'lemmatize'}\n"
     ]
    },
    {
     "name": "stderr",
     "output_type": "stream",
     "text": [
      "2024/11/04 10:44:28 INFO mlflow.tracking._tracking_service.client: 🏃 View run Vectorization at: http://mlflow-server:5000/#/experiments/0/runs/dd155dea68734dbaa381188d978c204c.\n",
      "2024/11/04 10:44:28 INFO mlflow.tracking._tracking_service.client: 🧪 View experiment at: http://mlflow-server:5000/#/experiments/0.\n",
      "/opt/venv/lib/python3.11/site-packages/sklearn/linear_model/_logistic.py:469: ConvergenceWarning: lbfgs failed to converge (status=1):\n",
      "STOP: TOTAL NO. of ITERATIONS REACHED LIMIT.\n",
      "\n",
      "Increase the number of iterations (max_iter) or scale the data as shown in:\n",
      "    https://scikit-learn.org/stable/modules/preprocessing.html\n",
      "Please also refer to the documentation for alternative solver options:\n",
      "    https://scikit-learn.org/stable/modules/linear_model.html#logistic-regression\n",
      "  n_iter_i = _check_optimize_result(\n",
      "/opt/venv/lib/python3.11/site-packages/sklearn/linear_model/_logistic.py:469: ConvergenceWarning: lbfgs failed to converge (status=1):\n",
      "STOP: TOTAL NO. of ITERATIONS REACHED LIMIT.\n",
      "\n",
      "Increase the number of iterations (max_iter) or scale the data as shown in:\n",
      "    https://scikit-learn.org/stable/modules/preprocessing.html\n",
      "Please also refer to the documentation for alternative solver options:\n",
      "    https://scikit-learn.org/stable/modules/linear_model.html#logistic-regression\n",
      "  n_iter_i = _check_optimize_result(\n",
      "/opt/venv/lib/python3.11/site-packages/sklearn/linear_model/_logistic.py:469: ConvergenceWarning: lbfgs failed to converge (status=1):\n",
      "STOP: TOTAL NO. of ITERATIONS REACHED LIMIT.\n",
      "\n",
      "Increase the number of iterations (max_iter) or scale the data as shown in:\n",
      "    https://scikit-learn.org/stable/modules/preprocessing.html\n",
      "Please also refer to the documentation for alternative solver options:\n",
      "    https://scikit-learn.org/stable/modules/linear_model.html#logistic-regression\n",
      "  n_iter_i = _check_optimize_result(\n",
      "/opt/venv/lib/python3.11/site-packages/sklearn/linear_model/_logistic.py:469: ConvergenceWarning: lbfgs failed to converge (status=1):\n",
      "STOP: TOTAL NO. of ITERATIONS REACHED LIMIT.\n",
      "\n",
      "Increase the number of iterations (max_iter) or scale the data as shown in:\n",
      "    https://scikit-learn.org/stable/modules/preprocessing.html\n",
      "Please also refer to the documentation for alternative solver options:\n",
      "    https://scikit-learn.org/stable/modules/linear_model.html#logistic-regression\n",
      "  n_iter_i = _check_optimize_result(\n",
      "/opt/venv/lib/python3.11/site-packages/sklearn/linear_model/_logistic.py:469: ConvergenceWarning: lbfgs failed to converge (status=1):\n",
      "STOP: TOTAL NO. of ITERATIONS REACHED LIMIT.\n",
      "\n",
      "Increase the number of iterations (max_iter) or scale the data as shown in:\n",
      "    https://scikit-learn.org/stable/modules/preprocessing.html\n",
      "Please also refer to the documentation for alternative solver options:\n",
      "    https://scikit-learn.org/stable/modules/linear_model.html#logistic-regression\n",
      "  n_iter_i = _check_optimize_result(\n",
      "/opt/venv/lib/python3.11/site-packages/sklearn/linear_model/_logistic.py:469: ConvergenceWarning: lbfgs failed to converge (status=1):\n",
      "STOP: TOTAL NO. of ITERATIONS REACHED LIMIT.\n",
      "\n",
      "Increase the number of iterations (max_iter) or scale the data as shown in:\n",
      "    https://scikit-learn.org/stable/modules/preprocessing.html\n",
      "Please also refer to the documentation for alternative solver options:\n",
      "    https://scikit-learn.org/stable/modules/linear_model.html#logistic-regression\n",
      "  n_iter_i = _check_optimize_result(\n",
      "2024/11/04 10:45:42 INFO mlflow.tracking._tracking_service.client: 🏃 View run Classification at: http://mlflow-server:5000/#/experiments/0/runs/a9c2968051b3465c8a75a135ea3a45ee.\n",
      "2024/11/04 10:45:42 INFO mlflow.tracking._tracking_service.client: 🧪 View experiment at: http://mlflow-server:5000/#/experiments/0.\n"
     ]
    },
    {
     "name": "stdout",
     "output_type": "stream",
     "text": [
      "Validation Accuracy : 0.7688600980273739\n",
      "              precision    recall  f1-score   support\n",
      "\n",
      "           0       0.78      0.75      0.76     78112\n",
      "           1       0.76      0.79      0.78     79191\n",
      "\n",
      "    accuracy                           0.77    157303\n",
      "   macro avg       0.77      0.77      0.77    157303\n",
      "weighted avg       0.77      0.77      0.77    157303\n",
      "\n"
     ]
    },
    {
     "name": "stderr",
     "output_type": "stream",
     "text": [
      "2024/11/04 10:45:44 WARNING mlflow.models.model: Model logged without a signature and input example. Please set `input_example` parameter when logging the model to auto infer the model signature.\n",
      "2024/11/04 10:45:44 INFO mlflow.tracking._tracking_service.client: 🏃 View run Final Test Evaluation at: http://mlflow-server:5000/#/experiments/0/runs/b8551b4dc8b143bcbf884cd9d94f8cd4.\n",
      "2024/11/04 10:45:44 INFO mlflow.tracking._tracking_service.client: 🧪 View experiment at: http://mlflow-server:5000/#/experiments/0.\n",
      "2024/11/04 10:45:44 INFO mlflow.tracking._tracking_service.client: 🏃 View run count + lemmatize at: http://mlflow-server:5000/#/experiments/0/runs/d998bf529dd54502aa2ce0fb0838505a.\n",
      "2024/11/04 10:45:44 INFO mlflow.tracking._tracking_service.client: 🧪 View experiment at: http://mlflow-server:5000/#/experiments/0.\n"
     ]
    },
    {
     "name": "stdout",
     "output_type": "stream",
     "text": [
      "Test Accuracy : 0.7688043533540152\n",
      "              precision    recall  f1-score   support\n",
      "\n",
      "           0       0.78      0.75      0.76     78430\n",
      "           1       0.76      0.79      0.77     78874\n",
      "\n",
      "    accuracy                           0.77    157304\n",
      "   macro avg       0.77      0.77      0.77    157304\n",
      "weighted avg       0.77      0.77      0.77    157304\n",
      "\n",
      "Testing configuration: {'vectorizer_type': 'count', 'method': 'stem'}\n"
     ]
    },
    {
     "name": "stderr",
     "output_type": "stream",
     "text": [
      "2024/11/04 10:46:40 INFO mlflow.tracking._tracking_service.client: 🏃 View run Vectorization at: http://mlflow-server:5000/#/experiments/0/runs/cd5336b802ef4a5392cc06edc4961462.\n",
      "2024/11/04 10:46:40 INFO mlflow.tracking._tracking_service.client: 🧪 View experiment at: http://mlflow-server:5000/#/experiments/0.\n",
      "/opt/venv/lib/python3.11/site-packages/sklearn/linear_model/_logistic.py:469: ConvergenceWarning: lbfgs failed to converge (status=1):\n",
      "STOP: TOTAL NO. of ITERATIONS REACHED LIMIT.\n",
      "\n",
      "Increase the number of iterations (max_iter) or scale the data as shown in:\n",
      "    https://scikit-learn.org/stable/modules/preprocessing.html\n",
      "Please also refer to the documentation for alternative solver options:\n",
      "    https://scikit-learn.org/stable/modules/linear_model.html#logistic-regression\n",
      "  n_iter_i = _check_optimize_result(\n",
      "/opt/venv/lib/python3.11/site-packages/sklearn/linear_model/_logistic.py:469: ConvergenceWarning: lbfgs failed to converge (status=1):\n",
      "STOP: TOTAL NO. of ITERATIONS REACHED LIMIT.\n",
      "\n",
      "Increase the number of iterations (max_iter) or scale the data as shown in:\n",
      "    https://scikit-learn.org/stable/modules/preprocessing.html\n",
      "Please also refer to the documentation for alternative solver options:\n",
      "    https://scikit-learn.org/stable/modules/linear_model.html#logistic-regression\n",
      "  n_iter_i = _check_optimize_result(\n",
      "/opt/venv/lib/python3.11/site-packages/sklearn/linear_model/_logistic.py:469: ConvergenceWarning: lbfgs failed to converge (status=1):\n",
      "STOP: TOTAL NO. of ITERATIONS REACHED LIMIT.\n",
      "\n",
      "Increase the number of iterations (max_iter) or scale the data as shown in:\n",
      "    https://scikit-learn.org/stable/modules/preprocessing.html\n",
      "Please also refer to the documentation for alternative solver options:\n",
      "    https://scikit-learn.org/stable/modules/linear_model.html#logistic-regression\n",
      "  n_iter_i = _check_optimize_result(\n",
      "/opt/venv/lib/python3.11/site-packages/sklearn/linear_model/_logistic.py:469: ConvergenceWarning: lbfgs failed to converge (status=1):\n",
      "STOP: TOTAL NO. of ITERATIONS REACHED LIMIT.\n",
      "\n",
      "Increase the number of iterations (max_iter) or scale the data as shown in:\n",
      "    https://scikit-learn.org/stable/modules/preprocessing.html\n",
      "Please also refer to the documentation for alternative solver options:\n",
      "    https://scikit-learn.org/stable/modules/linear_model.html#logistic-regression\n",
      "  n_iter_i = _check_optimize_result(\n",
      "/opt/venv/lib/python3.11/site-packages/sklearn/linear_model/_logistic.py:469: ConvergenceWarning: lbfgs failed to converge (status=1):\n",
      "STOP: TOTAL NO. of ITERATIONS REACHED LIMIT.\n",
      "\n",
      "Increase the number of iterations (max_iter) or scale the data as shown in:\n",
      "    https://scikit-learn.org/stable/modules/preprocessing.html\n",
      "Please also refer to the documentation for alternative solver options:\n",
      "    https://scikit-learn.org/stable/modules/linear_model.html#logistic-regression\n",
      "  n_iter_i = _check_optimize_result(\n",
      "/opt/venv/lib/python3.11/site-packages/sklearn/linear_model/_logistic.py:469: ConvergenceWarning: lbfgs failed to converge (status=1):\n",
      "STOP: TOTAL NO. of ITERATIONS REACHED LIMIT.\n",
      "\n",
      "Increase the number of iterations (max_iter) or scale the data as shown in:\n",
      "    https://scikit-learn.org/stable/modules/preprocessing.html\n",
      "Please also refer to the documentation for alternative solver options:\n",
      "    https://scikit-learn.org/stable/modules/linear_model.html#logistic-regression\n",
      "  n_iter_i = _check_optimize_result(\n",
      "2024/11/04 10:48:19 INFO mlflow.tracking._tracking_service.client: 🏃 View run Classification at: http://mlflow-server:5000/#/experiments/0/runs/fd9edd51def24e178333f60ef6a2e89e.\n",
      "2024/11/04 10:48:19 INFO mlflow.tracking._tracking_service.client: 🧪 View experiment at: http://mlflow-server:5000/#/experiments/0.\n"
     ]
    },
    {
     "name": "stdout",
     "output_type": "stream",
     "text": [
      "Validation Accuracy : 0.7670864509894916\n",
      "              precision    recall  f1-score   support\n",
      "\n",
      "           0       0.78      0.74      0.76     78112\n",
      "           1       0.76      0.79      0.77     79191\n",
      "\n",
      "    accuracy                           0.77    157303\n",
      "   macro avg       0.77      0.77      0.77    157303\n",
      "weighted avg       0.77      0.77      0.77    157303\n",
      "\n"
     ]
    },
    {
     "name": "stderr",
     "output_type": "stream",
     "text": [
      "2024/11/04 10:48:21 WARNING mlflow.models.model: Model logged without a signature and input example. Please set `input_example` parameter when logging the model to auto infer the model signature.\n",
      "2024/11/04 10:48:21 INFO mlflow.tracking._tracking_service.client: 🏃 View run Final Test Evaluation at: http://mlflow-server:5000/#/experiments/0/runs/ab4a35ba45ef42bb95b8727c7f15841b.\n",
      "2024/11/04 10:48:21 INFO mlflow.tracking._tracking_service.client: 🧪 View experiment at: http://mlflow-server:5000/#/experiments/0.\n",
      "2024/11/04 10:48:21 INFO mlflow.tracking._tracking_service.client: 🏃 View run count + stem at: http://mlflow-server:5000/#/experiments/0/runs/2e676a14bfab46c387ab6214577840ab.\n",
      "2024/11/04 10:48:21 INFO mlflow.tracking._tracking_service.client: 🧪 View experiment at: http://mlflow-server:5000/#/experiments/0.\n"
     ]
    },
    {
     "name": "stdout",
     "output_type": "stream",
     "text": [
      "Test Accuracy : 0.768728067944871\n",
      "              precision    recall  f1-score   support\n",
      "\n",
      "           0       0.78      0.74      0.76     78430\n",
      "           1       0.76      0.80      0.78     78874\n",
      "\n",
      "    accuracy                           0.77    157304\n",
      "   macro avg       0.77      0.77      0.77    157304\n",
      "weighted avg       0.77      0.77      0.77    157304\n",
      "\n",
      "Testing configuration: {'vectorizer_type': 'tfidf', 'method': 'lemmatize'}\n"
     ]
    },
    {
     "name": "stderr",
     "output_type": "stream",
     "text": [
      "2024/11/04 10:48:45 INFO mlflow.tracking._tracking_service.client: 🏃 View run Vectorization at: http://mlflow-server:5000/#/experiments/0/runs/3cd4967cd6734aa19934a78c1d21455a.\n",
      "2024/11/04 10:48:45 INFO mlflow.tracking._tracking_service.client: 🧪 View experiment at: http://mlflow-server:5000/#/experiments/0.\n",
      "2024/11/04 10:49:34 INFO mlflow.tracking._tracking_service.client: 🏃 View run Classification at: http://mlflow-server:5000/#/experiments/0/runs/39d0cd38f5794cb3a9db8fc780e3b524.\n",
      "2024/11/04 10:49:34 INFO mlflow.tracking._tracking_service.client: 🧪 View experiment at: http://mlflow-server:5000/#/experiments/0.\n"
     ]
    },
    {
     "name": "stdout",
     "output_type": "stream",
     "text": [
      "Validation Accuracy : 0.7720513912639937\n",
      "              precision    recall  f1-score   support\n",
      "\n",
      "           0       0.78      0.75      0.77     78112\n",
      "           1       0.76      0.79      0.78     79191\n",
      "\n",
      "    accuracy                           0.77    157303\n",
      "   macro avg       0.77      0.77      0.77    157303\n",
      "weighted avg       0.77      0.77      0.77    157303\n",
      "\n"
     ]
    },
    {
     "name": "stderr",
     "output_type": "stream",
     "text": [
      "2024/11/04 10:49:35 WARNING mlflow.models.model: Model logged without a signature and input example. Please set `input_example` parameter when logging the model to auto infer the model signature.\n",
      "2024/11/04 10:49:35 INFO mlflow.tracking._tracking_service.client: 🏃 View run Final Test Evaluation at: http://mlflow-server:5000/#/experiments/0/runs/ae9f33e9d3c743bdba9b910d09b27fc8.\n",
      "2024/11/04 10:49:35 INFO mlflow.tracking._tracking_service.client: 🧪 View experiment at: http://mlflow-server:5000/#/experiments/0.\n",
      "2024/11/04 10:49:35 INFO mlflow.tracking._tracking_service.client: 🏃 View run tfidf + lemmatize at: http://mlflow-server:5000/#/experiments/0/runs/bd57096db4594da38797ccc2b02088e2.\n",
      "2024/11/04 10:49:35 INFO mlflow.tracking._tracking_service.client: 🧪 View experiment at: http://mlflow-server:5000/#/experiments/0.\n"
     ]
    },
    {
     "name": "stdout",
     "output_type": "stream",
     "text": [
      "Test Accuracy : 0.7718684839546356\n",
      "              precision    recall  f1-score   support\n",
      "\n",
      "           0       0.78      0.75      0.77     78430\n",
      "           1       0.76      0.79      0.78     78874\n",
      "\n",
      "    accuracy                           0.77    157304\n",
      "   macro avg       0.77      0.77      0.77    157304\n",
      "weighted avg       0.77      0.77      0.77    157304\n",
      "\n",
      "Testing configuration: {'vectorizer_type': 'tfidf', 'method': 'stem'}\n"
     ]
    },
    {
     "name": "stderr",
     "output_type": "stream",
     "text": [
      "2024/11/04 10:50:31 INFO mlflow.tracking._tracking_service.client: 🏃 View run Vectorization at: http://mlflow-server:5000/#/experiments/0/runs/086860352ead4337980ee6e61b202e5c.\n",
      "2024/11/04 10:50:31 INFO mlflow.tracking._tracking_service.client: 🧪 View experiment at: http://mlflow-server:5000/#/experiments/0.\n",
      "2024/11/04 10:51:30 INFO mlflow.tracking._tracking_service.client: 🏃 View run Classification at: http://mlflow-server:5000/#/experiments/0/runs/8144fc1e1fd9499783ecf3493a3f894a.\n",
      "2024/11/04 10:51:30 INFO mlflow.tracking._tracking_service.client: 🧪 View experiment at: http://mlflow-server:5000/#/experiments/0.\n"
     ]
    },
    {
     "name": "stdout",
     "output_type": "stream",
     "text": [
      "Validation Accuracy : 0.7694703851801936\n",
      "              precision    recall  f1-score   support\n",
      "\n",
      "           0       0.78      0.75      0.76     78112\n",
      "           1       0.76      0.79      0.77     79191\n",
      "\n",
      "    accuracy                           0.77    157303\n",
      "   macro avg       0.77      0.77      0.77    157303\n",
      "weighted avg       0.77      0.77      0.77    157303\n",
      "\n"
     ]
    },
    {
     "name": "stderr",
     "output_type": "stream",
     "text": [
      "2024/11/04 10:51:31 WARNING mlflow.models.model: Model logged without a signature and input example. Please set `input_example` parameter when logging the model to auto infer the model signature.\n",
      "2024/11/04 10:51:32 INFO mlflow.tracking._tracking_service.client: 🏃 View run Final Test Evaluation at: http://mlflow-server:5000/#/experiments/0/runs/dbaba0202bf14d1b8c09cd62c8b19621.\n",
      "2024/11/04 10:51:32 INFO mlflow.tracking._tracking_service.client: 🧪 View experiment at: http://mlflow-server:5000/#/experiments/0.\n",
      "2024/11/04 10:51:32 INFO mlflow.tracking._tracking_service.client: 🏃 View run tfidf + stem at: http://mlflow-server:5000/#/experiments/0/runs/ca288f5ae0654a61b19806ff1215d70e.\n",
      "2024/11/04 10:51:32 INFO mlflow.tracking._tracking_service.client: 🧪 View experiment at: http://mlflow-server:5000/#/experiments/0.\n"
     ]
    },
    {
     "name": "stdout",
     "output_type": "stream",
     "text": [
      "Test Accuracy : 0.7709212734577633\n",
      "              precision    recall  f1-score   support\n",
      "\n",
      "           0       0.78      0.75      0.77     78430\n",
      "           1       0.76      0.79      0.78     78874\n",
      "\n",
      "    accuracy                           0.77    157304\n",
      "   macro avg       0.77      0.77      0.77    157304\n",
      "weighted avg       0.77      0.77      0.77    157304\n",
      "\n"
     ]
    }
   ],
   "source": [
    "# Séparer les données en Train, Validation et Test une seule fois\n",
    "# Utiliser les tweets originaux pour diviser les ensembles de manière cohérente\n",
    "y = df_sample['target']\n",
    "tweets = df_sample['text']\n",
    "y_train_val, y_test = train_test_split(y, test_size=0.2, random_state=42)\n",
    "tweets_train_val, tweets_test = train_test_split(tweets, test_size=0.2, random_state=42)\n",
    "\n",
    "# Rediviser l'ensemble Train + Validation en Train et Validation\n",
    "y_train, y_val = train_test_split(y_train_val, test_size=0.25, random_state=42)\n",
    "tweets_train, tweets_val = train_test_split(tweets_train_val, test_size=0.25, random_state=42)\n",
    "\n",
    "# Boucle pour tester chaque configuration\n",
    "for config in configurations:\n",
    "    # Démarrer une nouvelle exécution parent pour chaque configuration\n",
    "    with mlflow.start_run(run_name=f\"{config['vectorizer_type']} + {config['method']}\", nested=False):\n",
    "        mlflow.set_tag(\"Model_Type\", \"Logistic Regression\")\n",
    "        mlflow.set_tag(\"vectorizer_type\", config['vectorizer_type'])\n",
    "        mlflow.set_tag(\"preprocessing_method\", config['method'])\n",
    "        mlflow.set_tag(\"Model_Type\", \"Logistic Regression\")\n",
    "        mlflow.set_tag(\"vectorizer_type\", config['vectorizer_type'])\n",
    "        mlflow.set_tag(\"preprocessing_method\", config['method'])\n",
    "        print(f\"Testing configuration: {config}\")\n",
    "        \n",
    "        # Enregistrer les paramètres de configuration comme tags\n",
    "        mlflow.set_tag(\"vectorizer_type\", config['vectorizer_type'])\n",
    "        mlflow.set_tag(\"preprocessing_method\", config['method'])\n",
    "        \n",
    "        # Initialiser et appliquer la vectorisation avec TweetVectorizer\n",
    "        tweet_vectorizer = TweetVectorizer(vectorizer_type=config['vectorizer_type'], method=config['method'])\n",
    "        \n",
    "        # Vectorisation des ensembles Train, Validation et Test\n",
    "        X_train = tweet_vectorizer.fit_transform(tweets_train)\n",
    "        X_val = tweet_vectorizer.transform(tweets_val)\n",
    "        X_test = tweet_vectorizer.transform(tweets_test)\n",
    "        \n",
    "        # Initialiser le classificateur\n",
    "        classifier = TweetClassifier()\n",
    "        \n",
    "        # Entraîner et évaluer le modèle avec Train et Validation\n",
    "        classifier.train_and_evaluate(X_train, X_val, y_train, y_val)\n",
    "\n",
    "        # Évaluation finale sur le set de Test\n",
    "        classifier.final_evaluation(X_test, y_test)\n"
   ]
  }
 ],
 "metadata": {
  "kernelspec": {
   "display_name": "Python 3 (ipykernel)",
   "language": "python",
   "name": "python3"
  },
  "language_info": {
   "codemirror_mode": {
    "name": "ipython",
    "version": 3
   },
   "file_extension": ".py",
   "mimetype": "text/x-python",
   "name": "python",
   "nbconvert_exporter": "python",
   "pygments_lexer": "ipython3",
   "version": "3.11.2"
  }
 },
 "nbformat": 4,
 "nbformat_minor": 2
}
