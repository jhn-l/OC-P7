{
 "cells": [
  {
   "cell_type": "markdown",
   "metadata": {},
   "source": [
    "# Description du Script\n",
    "\n",
    "## Fonctionnalité\n",
    "Ce script implémente une interface utilisateur interactive à l'aide de **ipywidgets** dans un Jupyter Notebook. Il est conçu pour prendre en entrée un texte utilisateur (tweet), puis une prédiction est retourné via l'API.\n",
    "\n",
    "## Détails Techniques\n",
    "1. **Bibliothèques Utilisées**:\n",
    "   - `ipywidgets`: pour créer des widgets interactifs comme des champs de texte, des boutons, etc.\n",
    "   - `requests`: pour effectuer des requêtes HTTP, probablement vers une API externe.\n",
    "\n",
    "2. **Widgets Décrits**:\n",
    "   - Un champ de texte interactif pour entrer un texte (un tweet).\n",
    "   - Un bouton pour déclencher une action (un envoi).\n",
    "\n",
    "3. **Action Prédite**:\n",
    "   - Lors de l'appui sur le bouton, le script envoye le contenu du champ de texte à l'API via une requête HTTP pour obtenir une réponse (prédiction ).\n",
    "\n",
    "4. **Interface Utilisateur**:\n",
    "   - L'interface repose sur des composants visuels pour faciliter l'interaction avec l'utilisateur.\n",
    "   - Les résultats de l'action (prédiction) sont affichés dans le Notebook.\n"
   ]
  },
  {
   "cell_type": "code",
   "execution_count": 1,
   "metadata": {},
   "outputs": [],
   "source": [
    "# Importer les modules nécessaires\n",
    "import ipywidgets as widgets\n",
    "from IPython.display import display\n",
    "import requests"
   ]
  },
  {
   "cell_type": "code",
   "execution_count": null,
   "metadata": {},
   "outputs": [
    {
     "data": {
      "application/vnd.jupyter.widget-view+json": {
       "model_id": "f3c35ecf3cb3437887a6b05f0d703641",
       "version_major": 2,
       "version_minor": 0
      },
      "text/plain": [
       "Text(value='', description='Tweet:', placeholder='Entrez un tweet ici')"
      ]
     },
     "metadata": {},
     "output_type": "display_data"
    },
    {
     "data": {
      "application/vnd.jupyter.widget-view+json": {
       "model_id": "26d908233c2346af8307d44b6af6216a",
       "version_major": 2,
       "version_minor": 0
      },
      "text/plain": [
       "Button(description='Prédire', style=ButtonStyle())"
      ]
     },
     "metadata": {},
     "output_type": "display_data"
    },
    {
     "data": {
      "application/vnd.jupyter.widget-view+json": {
       "model_id": "660548a50b6542c491e3b34310b552c1",
       "version_major": 2,
       "version_minor": 0
      },
      "text/plain": [
       "Output()"
      ]
     },
     "metadata": {},
     "output_type": "display_data"
    }
   ],
   "source": [
    "# Importer les modules nécessaires\n",
    "import ipywidgets as widgets\n",
    "from IPython.display import display\n",
    "import requests\n",
    "\n",
    "# Fonction pour envoyer une requête POST à l'API et obtenir la prédiction\n",
    "def test_api(tweet):\n",
    "    url = \"http://myapiapp-projet7.francecentral.azurecontainer.io:8000/predict\"\n",
    "\n",
    "    try:\n",
    "        # Envoi de la requête POST avec le texte du tweet\n",
    "        response = requests.post(url, json={\"text\": tweet})\n",
    "        \n",
    "        # Vérification du statut de la réponse\n",
    "        if response.status_code == 200:\n",
    "            # Extraire la prédiction de la réponse JSON\n",
    "            prediction = response.json().get(\"predictions\", [\"Erreur dans la prédiction\"])[0]\n",
    "            display(widgets.HTML(value=f\"<b>Prédiction : {prediction}</b>\"))\n",
    "            return prediction\n",
    "        else:\n",
    "            display(widgets.HTML(value=f\"<b>Erreur : {response.json().get('error', 'Erreur inconnue')}</b>\"))\n",
    "            return None\n",
    "    except Exception as e:\n",
    "        display(widgets.HTML(value=f\"<b>Erreur de connexion : {e}</b>\"))\n",
    "        return None\n",
    "\n",
    "# Fonction pour envoyer un feedback de prédiction incorrecte\n",
    "def send_feedback(tweet, prediction, feedback_type=\"non_valide\"):\n",
    "    #url = \"http://api-prediction:8123/feedback\"  # URL de l'API pour envoyer un feedback\n",
    "    url = \"http://myapiapp-projet7.francecentral.azurecontainer.io:8000/feedback\"\n",
    "    \n",
    "    try:\n",
    "        # Envoi de la requête POST avec le texte du tweet, la prédiction et le type de feedback\n",
    "        response = requests.post(url, json={\"text\": tweet, \"prediction\": prediction, \"feedback\": feedback_type})\n",
    "        \n",
    "        # Vérification du statut de la réponse\n",
    "        if response.status_code == 200:\n",
    "            print(\"Feedback envoyé avec succès.\")\n",
    "        else:\n",
    "            print(\"Erreur lors de l'envoi du feedback :\", response.json().get(\"error\", \"Erreur inconnue\"))\n",
    "    except Exception as e:\n",
    "        print(\"Erreur de connexion pour l'envoi du feedback :\", e)\n",
    "\n",
    "# Interface pour la saisie du tweet\n",
    "tweet_input = widgets.Text(\n",
    "    placeholder='Entrez un tweet ici',\n",
    "    description='Tweet:',\n",
    "    disabled=False\n",
    ")\n",
    "\n",
    "# Bouton de validation pour la prédiction\n",
    "validation_button = widgets.Button(description=\"Valider la Prédiction\")\n",
    "non_validation_button = widgets.Button(description=\"Non Valide\")\n",
    "\n",
    "# Conteneur pour afficher la prédiction\n",
    "output = widgets.Output()\n",
    "\n",
    "# Fonction de gestion du clic sur le bouton de validation\n",
    "def on_validation_click(b):\n",
    "    with output:\n",
    "        output.clear_output()\n",
    "        print(\"Prédiction validée par l'utilisateur.\")\n",
    "        \n",
    "        # Envoyer un feedback positif à l'API\n",
    "        send_feedback(tweet_input.value, last_prediction, feedback_type=\"valide\")\n",
    "\n",
    "# Fonction de gestion du clic en cas de non-validation\n",
    "def on_non_validation_click(b):\n",
    "    with output:\n",
    "        output.clear_output()\n",
    "        print(\"Prédiction non validée par l'utilisateur.\")\n",
    "        \n",
    "        # Envoyer un feedback négatif à l'API\n",
    "        send_feedback(tweet_input.value, last_prediction, feedback_type=\"non_valide\")\n",
    "\n",
    "# Liaison des boutons avec les fonctions de gestion\n",
    "validation_button.on_click(on_validation_click)\n",
    "non_validation_button.on_click(on_non_validation_click)\n",
    "\n",
    "# Fonction d'affichage des widgets\n",
    "def display_interface(_):\n",
    "    global last_prediction\n",
    "    with output:\n",
    "        output.clear_output()\n",
    "        last_prediction = test_api(tweet_input.value)  # Stocker la dernière prédiction\n",
    "        if last_prediction is not None:\n",
    "            display(validation_button, non_validation_button)\n",
    "\n",
    "# Bouton de lancement de la prédiction\n",
    "predict_button = widgets.Button(description=\"Prédire\")\n",
    "predict_button.on_click(display_interface)\n",
    "\n",
    "# Affichage des widgets\n",
    "display(tweet_input, predict_button, output)\n"
   ]
  }
 ],
 "metadata": {
  "kernelspec": {
   "display_name": "Python 3 (ipykernel)",
   "language": "python",
   "name": "python3"
  },
  "language_info": {
   "codemirror_mode": {
    "name": "ipython",
    "version": 3
   },
   "file_extension": ".py",
   "mimetype": "text/x-python",
   "name": "python",
   "nbconvert_exporter": "python",
   "pygments_lexer": "ipython3",
   "version": "3.11.2"
  }
 },
 "nbformat": 4,
 "nbformat_minor": 2
}
