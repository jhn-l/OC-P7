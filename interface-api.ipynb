{
 "cells": [
  {
   "cell_type": "code",
   "execution_count": 1,
   "metadata": {},
   "outputs": [],
   "source": [
    "# Importer les modules nécessaires\n",
    "import ipywidgets as widgets\n",
    "from IPython.display import display\n",
    "import requests"
   ]
  },
  {
   "cell_type": "code",
   "execution_count": 3,
   "metadata": {},
   "outputs": [
    {
     "data": {
      "application/vnd.jupyter.widget-view+json": {
       "model_id": "f10e7e5617974c7197f043122d0b4fb5",
       "version_major": 2,
       "version_minor": 0
      },
      "text/plain": [
       "Text(value='', description='Tweet:', placeholder='Entrez un tweet ici')"
      ]
     },
     "metadata": {},
     "output_type": "display_data"
    },
    {
     "data": {
      "application/vnd.jupyter.widget-view+json": {
       "model_id": "832cc629b67e46409930917b212f1f37",
       "version_major": 2,
       "version_minor": 0
      },
      "text/plain": [
       "Button(description='Prédire', style=ButtonStyle())"
      ]
     },
     "metadata": {},
     "output_type": "display_data"
    },
    {
     "data": {
      "application/vnd.jupyter.widget-view+json": {
       "model_id": "b6a469cb421642f38f03989c0fc00dc4",
       "version_major": 2,
       "version_minor": 0
      },
      "text/plain": [
       "Output()"
      ]
     },
     "metadata": {},
     "output_type": "display_data"
    }
   ],
   "source": [
    "# Fonction pour envoyer une requête POST à l'API et obtenir la prédiction\n",
    "def test_api(tweet):\n",
    "    url = \"http://api-prediction:8123/predict\"  # URL de l'API en local\n",
    "    try:\n",
    "        # Envoi de la requête POST avec le texte du tweet\n",
    "        response = requests.post(url, json={\"text\": tweet})\n",
    "        \n",
    "        # Vérification du statut de la réponse\n",
    "        if response.status_code == 200:\n",
    "            # Extraire la prédiction de la réponse JSON\n",
    "            prediction = response.json().get(\"predictions\", [\"Erreur dans la prédiction\"])[0]\n",
    "            display(widgets.HTML(value=f\"<b>Prédiction : {prediction}</b>\"))\n",
    "            return prediction\n",
    "        else:\n",
    "            display(widgets.HTML(value=f\"<b>Erreur : {response.json().get('error', 'Erreur inconnue')}</b>\"))\n",
    "            return None\n",
    "    except Exception as e:\n",
    "        display(widgets.HTML(value=f\"<b>Erreur de connexion : {e}</b>\"))\n",
    "        return None\n",
    "\n",
    "# Interface pour la saisie du tweet\n",
    "tweet_input = widgets.Text(\n",
    "    placeholder='Entrez un tweet ici',\n",
    "    description='Tweet:',\n",
    "    disabled=False\n",
    ")\n",
    "\n",
    "# Bouton de validation pour la prédiction\n",
    "validation_button = widgets.Button(description=\"Valider la Prédiction\")\n",
    "non_validation_button = widgets.Button(description=\"Non Valide\")\n",
    "\n",
    "# Conteneur pour afficher la prédiction\n",
    "output = widgets.Output()\n",
    "\n",
    "# Fonction de gestion du clic sur le bouton de validation\n",
    "def on_validation_click(b):\n",
    "    with output:\n",
    "        output.clear_output()\n",
    "        print(\"Prédiction validée par l'utilisateur.\")\n",
    "        \n",
    "def on_non_validation_click(b):\n",
    "    with output:\n",
    "        output.clear_output()\n",
    "        print(\"Prédiction non validée par l'utilisateur.\")\n",
    "\n",
    "# Liaison des boutons avec les fonctions de gestion\n",
    "validation_button.on_click(on_validation_click)\n",
    "non_validation_button.on_click(on_non_validation_click)\n",
    "\n",
    "# Fonction d'affichage des widgets\n",
    "def display_interface(_):\n",
    "    with output:\n",
    "        output.clear_output()\n",
    "        prediction = test_api(tweet_input.value)\n",
    "        if prediction is not None:\n",
    "            display(validation_button, non_validation_button)\n",
    "\n",
    "# Bouton de lancement de la prédiction\n",
    "predict_button = widgets.Button(description=\"Prédire\")\n",
    "predict_button.on_click(display_interface)\n",
    "\n",
    "# Affichage des widgets\n",
    "display(tweet_input, predict_button, output)\n"
   ]
  }
 ],
 "metadata": {
  "kernelspec": {
   "display_name": "Python 3 (ipykernel)",
   "language": "python",
   "name": "python3"
  },
  "language_info": {
   "codemirror_mode": {
    "name": "ipython",
    "version": 3
   },
   "file_extension": ".py",
   "mimetype": "text/x-python",
   "name": "python",
   "nbconvert_exporter": "python",
   "pygments_lexer": "ipython3",
   "version": "3.11.2"
  }
 },
 "nbformat": 4,
 "nbformat_minor": 2
}
